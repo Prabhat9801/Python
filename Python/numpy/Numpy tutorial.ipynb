{
 "cells": [
  {
   "cell_type": "markdown",
   "id": "40f2254d-c418-428f-991d-08edf1d3532e",
   "metadata": {},
   "source": [
    "# My numpy tutorial"
   ]
  },
  {
   "cell_type": "code",
   "execution_count": 1,
   "id": "24714c36-6c54-432a-9069-98d53788802a",
   "metadata": {},
   "outputs": [],
   "source": [
    "import numpy as np"
   ]
  },
  {
   "cell_type": "code",
   "execution_count": 2,
   "id": "012be32b-1601-4736-b86e-caf50cf07a54",
   "metadata": {},
   "outputs": [],
   "source": [
    "myarr= np.array([1,3,4,5,6], np.int8)"
   ]
  },
  {
   "cell_type": "code",
   "execution_count": 3,
   "id": "8c3e5945-a40e-4dbe-81ea-ed8af1ec4baa",
   "metadata": {},
   "outputs": [
    {
     "data": {
      "text/plain": [
       "6"
      ]
     },
     "execution_count": 3,
     "metadata": {},
     "output_type": "execute_result"
    }
   ],
   "source": [
    "myarr[4]"
   ]
  },
  {
   "cell_type": "code",
   "execution_count": 4,
   "id": "556c1226-bf35-47f1-b724-0af5825014a7",
   "metadata": {},
   "outputs": [
    {
     "data": {
      "text/plain": [
       "(5,)"
      ]
     },
     "execution_count": 4,
     "metadata": {},
     "output_type": "execute_result"
    }
   ],
   "source": [
    "myarr.shape"
   ]
  },
  {
   "cell_type": "code",
   "execution_count": 5,
   "id": "14a86ca8-8232-4084-aa55-63247d06cc56",
   "metadata": {},
   "outputs": [
    {
     "data": {
      "text/plain": [
       "dtype('int8')"
      ]
     },
     "execution_count": 5,
     "metadata": {},
     "output_type": "execute_result"
    }
   ],
   "source": [
    "myarr.dtype"
   ]
  },
  {
   "cell_type": "code",
   "execution_count": 6,
   "id": "cdc60c61-f72f-4950-b253-0d0ca63acc2f",
   "metadata": {},
   "outputs": [],
   "source": [
    "myarr[4]=25"
   ]
  },
  {
   "cell_type": "code",
   "execution_count": 7,
   "id": "b197c411-5562-4b9d-97af-d9d1e0c971e9",
   "metadata": {},
   "outputs": [
    {
     "data": {
      "text/plain": [
       "array([ 1,  3,  4,  5, 25], dtype=int8)"
      ]
     },
     "execution_count": 7,
     "metadata": {},
     "output_type": "execute_result"
    }
   ],
   "source": [
    "myarr"
   ]
  },
  {
   "cell_type": "markdown",
   "id": "87cdde05-d351-44c1-9463-ea12b317ca8d",
   "metadata": {},
   "source": [
    "# Array creation : conversion from the other python structure\n"
   ]
  },
  {
   "cell_type": "code",
   "execution_count": 8,
   "id": "9d9404df-1833-43b2-852e-179adc8b0af1",
   "metadata": {},
   "outputs": [],
   "source": [
    "listarray = np.array([[1,2,3,4],[2,4,6,8],[5,6,8,7]])"
   ]
  },
  {
   "cell_type": "code",
   "execution_count": 9,
   "id": "37ac263c-dacf-455f-81aa-8f2fa128fef3",
   "metadata": {},
   "outputs": [
    {
     "data": {
      "text/plain": [
       "array([[1, 2, 3, 4],\n",
       "       [2, 4, 6, 8],\n",
       "       [5, 6, 8, 7]])"
      ]
     },
     "execution_count": 9,
     "metadata": {},
     "output_type": "execute_result"
    }
   ],
   "source": [
    "listarray"
   ]
  },
  {
   "cell_type": "code",
   "execution_count": 10,
   "id": "577c8957-713e-4c77-9ad9-e531ff96daa6",
   "metadata": {},
   "outputs": [
    {
     "data": {
      "text/plain": [
       "(3, 4)"
      ]
     },
     "execution_count": 10,
     "metadata": {},
     "output_type": "execute_result"
    }
   ],
   "source": [
    "listarray.shape"
   ]
  },
  {
   "cell_type": "code",
   "execution_count": 11,
   "id": "c1aba76e-9d4c-4ce0-a8e4-197a5bbec1d0",
   "metadata": {},
   "outputs": [
    {
     "data": {
      "text/plain": [
       "dtype('int32')"
      ]
     },
     "execution_count": 11,
     "metadata": {},
     "output_type": "execute_result"
    }
   ],
   "source": [
    "listarray.dtype"
   ]
  },
  {
   "cell_type": "code",
   "execution_count": 12,
   "id": "432eeb74-9b3f-41a0-b0e9-2c81798ced7c",
   "metadata": {},
   "outputs": [
    {
     "data": {
      "text/plain": [
       "12"
      ]
     },
     "execution_count": 12,
     "metadata": {},
     "output_type": "execute_result"
    }
   ],
   "source": [
    "listarray.size"
   ]
  },
  {
   "cell_type": "code",
   "execution_count": 13,
   "id": "da2c1d96-3d7f-4902-8a97-ed691a4a63f5",
   "metadata": {},
   "outputs": [],
   "source": [
    "listarray[1,3]=25"
   ]
  },
  {
   "cell_type": "code",
   "execution_count": 15,
   "id": "cf28ed69-737c-428c-b709-ce44b3e802e5",
   "metadata": {},
   "outputs": [
    {
     "data": {
      "text/plain": [
       "array([[ 1,  2,  3,  4],\n",
       "       [ 2,  4,  6, 25],\n",
       "       [ 5,  6,  8,  7]])"
      ]
     },
     "execution_count": 15,
     "metadata": {},
     "output_type": "execute_result"
    }
   ],
   "source": [
    "listarray"
   ]
  },
  {
   "cell_type": "code",
   "execution_count": 26,
   "id": "59e004ce-7a40-4752-821a-adf3ded8b490",
   "metadata": {},
   "outputs": [],
   "source": [
    "five = np.zeros((3,3))"
   ]
  },
  {
   "cell_type": "code",
   "execution_count": 27,
   "id": "ac25285e-60c9-43c4-b2ec-b1427a1696ea",
   "metadata": {},
   "outputs": [
    {
     "data": {
      "text/plain": [
       "array([[0., 0., 0.],\n",
       "       [0., 0., 0.],\n",
       "       [0., 0., 0.]])"
      ]
     },
     "execution_count": 27,
     "metadata": {},
     "output_type": "execute_result"
    }
   ],
   "source": [
    "five"
   ]
  }
 ],
 "metadata": {
  "kernelspec": {
   "display_name": "Python 3 (ipykernel)",
   "language": "python",
   "name": "python3"
  },
  "language_info": {
   "codemirror_mode": {
    "name": "ipython",
    "version": 3
   },
   "file_extension": ".py",
   "mimetype": "text/x-python",
   "name": "python",
   "nbconvert_exporter": "python",
   "pygments_lexer": "ipython3",
   "version": "3.12.2"
  }
 },
 "nbformat": 4,
 "nbformat_minor": 5
}
